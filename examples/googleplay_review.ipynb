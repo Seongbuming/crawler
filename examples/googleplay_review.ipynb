{
 "cells": [
  {
   "cell_type": "code",
   "execution_count": 57,
   "metadata": {},
   "outputs": [],
   "source": [
    "import json\n",
    "import pandas as pd\n",
    "import traceback\n",
    "import requests\n",
    "import re\n",
    "from bs4 import BeautifulSoup\n",
    "#from .dto import *"
   ]
  },
  {
   "cell_type": "code",
   "execution_count": 58,
   "metadata": {},
   "outputs": [],
   "source": [
    "response = requests.get(\n",
    "    url=\"https://play.google.com/store/apps/details\",\n",
    "    params={\n",
    "        \"id\": \"eco.app.libropia.v2\",\n",
    "        \"hl\": \"ko\",\n",
    "    },\n",
    "    headers={ \"accept-encoding\": \"gzip, deflate, br\" },\n",
    "    cookies=None,\n",
    ")"
   ]
  },
  {
   "cell_type": "code",
   "execution_count": 59,
   "metadata": {},
   "outputs": [],
   "source": [
    "app_details = response.text\n",
    "contents = app_details"
   ]
  },
  {
   "cell_type": "markdown",
   "metadata": {},
   "source": [
    "# Find review data service keys"
   ]
  },
  {
   "cell_type": "code",
   "execution_count": 60,
   "metadata": {},
   "outputs": [],
   "source": [
    "bs = BeautifulSoup(app_details, \"html.parser\")\n",
    "scripts = bs.select(\"script\")"
   ]
  },
  {
   "cell_type": "code",
   "execution_count": 61,
   "metadata": {},
   "outputs": [],
   "source": [
    "services_regex = r\"var AF_dataServiceRequests = ([^;]*)\""
   ]
  },
  {
   "cell_type": "code",
   "execution_count": 62,
   "metadata": {},
   "outputs": [],
   "source": [
    "services_match = re.findall(services_regex, contents, re.MULTILINE)\n",
    "services = services_match[0]"
   ]
  },
  {
   "cell_type": "code",
   "execution_count": 63,
   "metadata": {},
   "outputs": [],
   "source": [
    "review_ds_key_regex = r\"\\'(ds:[0-9]+)\\' : {id:\\'oCPfdb\\'\"\n",
    "review_ds_keys = re.findall(review_ds_key_regex, services, re.MULTILINE)"
   ]
  },
  {
   "cell_type": "code",
   "execution_count": 64,
   "metadata": {},
   "outputs": [
    {
     "data": {
      "text/plain": [
       "['ds:8']"
      ]
     },
     "execution_count": 64,
     "metadata": {},
     "output_type": "execute_result"
    }
   ],
   "source": [
    "review_ds_keys"
   ]
  },
  {
   "attachments": {},
   "cell_type": "markdown",
   "metadata": {},
   "source": [
    "# Parse review in a row"
   ]
  },
  {
   "cell_type": "code",
   "execution_count": 65,
   "metadata": {},
   "outputs": [],
   "source": [
    "import datetime\n",
    "def parse_review(review_row):\n",
    "    writed_time = datetime.datetime.utcfromtimestamp(review_row[5][0])\n",
    "    writed_time = writed_time.strftime(\"%Y-%m-%d %H:%M\")\n",
    "\n",
    "    return {\n",
    "        \"review_id\": review_row[0],\n",
    "        \"author\": review_row[1][0],\n",
    "        \"review_text\": review_row[4],\n",
    "        \"rating\": review_row[2],\n",
    "        \"writed_time\": writed_time,\n",
    "    }"
   ]
  },
  {
   "cell_type": "markdown",
   "metadata": {},
   "source": [
    "# Scrap review in first page"
   ]
  },
  {
   "cell_type": "code",
   "execution_count": 66,
   "metadata": {},
   "outputs": [],
   "source": [
    "review_data = []"
   ]
  },
  {
   "cell_type": "code",
   "execution_count": 67,
   "metadata": {},
   "outputs": [],
   "source": [
    "import json\n",
    "for script in scripts:\n",
    "    ds_key_regex = r\"AF_initDataCallback\\({key: \\'(ds:\\d+)\\',\"\n",
    "    ds_keys = re.findall(ds_key_regex, script.text, re.MULTILINE)\n",
    "    if len(ds_keys) > 0 and ds_keys[0] in review_ds_keys:\n",
    "        review_data_regex = r\"data:([\\[].*[\\]]), sideChannel: {}}\\);$\"\n",
    "        review_data_str = re.findall(review_data_regex, script.text, re.MULTILINE)[0]\n",
    "        review_data += json.loads(review_data_str)\n",
    "        break"
   ]
  },
  {
   "cell_type": "code",
   "execution_count": 68,
   "metadata": {},
   "outputs": [
    {
     "data": {
      "text/plain": [
       "[{'review_id': 'c507ddcb-7c62-46b0-a393-bf6957fee82d',\n",
       "  'author': 'Yohan Hong',\n",
       "  'review_text': '앱 자체가 너무 무거워서 구동되는데 애로사항이 있고요. 무엇보다 접근권한이 뭐 이리 많이 필요하게 해놓았는지... 단순히 도서관에서 책빌리고 관리하는 용도인데 불구하고 필요 이상으로 (위치정보 부터 개인통화정보 등등) 너무 많은 종류의 개인정보를 가져가는 개발자분의 의도가 뭔지 매우 궁금합니다. 지금이라도 보다 라이트 하게 만들어서 오류를 줄여주시고, 필요이상의 개인정보를 요구하는 앱의 설정을 속히 변경하여 주시기 바랍니다.',\n",
       "  'rating': 2,\n",
       "  'writed_time': '2020-05-22 11:09'},\n",
       " {'review_id': 'bfc55f3d-ed31-4b7b-9b4e-d807857c7fab',\n",
       "  'author': '박윤하',\n",
       "  'review_text': '대출이력에서 읽었던 책을 확인하고 대여하는데 수학도둑 같은건 시리즈가 80번 이상대인데 숫자로 검색하면 나오지도 않고 너무 불편해요. 내림차순이나 오름차순같은 상세검색 기능이 있었으면으면 좋겠어요. 그리고 처음 검색할때 도서관 선택가능했으면 좋겠어요. 처음에 무조건 통합도서관 검색이라 불편해요.',\n",
       "  'rating': 3,\n",
       "  'writed_time': '2022-12-13 05:07'},\n",
       " {'review_id': '7d649b68-d65b-42c8-9634-9acfc223392a',\n",
       "  'author': '유다은 (냥냥)',\n",
       "  'review_text': '정말 편리하고 아주 소중히 여기는 앱이에요! 근데 검색을 할 때 앱이 계속 튕겨요..! 그 점이랑 도서를 검색할 때 필터 기능을 넣어서 유아 열람실과 어린이 열람실 같은 책들을 분류할 수 있었으면 좋겠어요~´ ˘ `',\n",
       "  'rating': 5,\n",
       "  'writed_time': '2023-01-25 11:34'},\n",
       " {'review_id': '1a3a8545-2ee9-45f3-8a29-a7fce1f2218f',\n",
       "  'author': 'Symjo Xin',\n",
       "  'review_text': '공공도서관 연동가능한 거의 유일한 앱이라 자주 사용하고는 있지만, 많은 사용자의 건의와 개선요청에도 거의 응답하지 않는 배짱 두둑한 앱이에요. 화면구성은 깔끔하고 필요한 기능은 있지만 자잘한 불편함이 많아요. 쉽게 개선할 수 있을텐데도 게으르거나 무성의해요. 이용자 요청을 선별해 제대로 구현해서 더없이 좋은 앱이 되길 바래요.',\n",
       "  'rating': 3,\n",
       "  'writed_time': '2022-10-12 09:51'},\n",
       " {'review_id': '1e76a878-e0fd-4dee-be68-fe1018c727ee',\n",
       "  'author': 'son',\n",
       "  'review_text': '인터페이스 ui는 촌스러운 면이 없지 않아 있지만 딱히 버그가 있는것도 아니고 기능적으로 훨씬 편하게 이용할수있어 추천합니다. 상호대차 및 예약도 어플로 가능하고, 시에서 운영하는 큰,작은 도서관에있는 책들은 다 검색이 가능한게 제일 좋습니다. 회원증도 모바일로 이식해서 잘 사용가능하고 아무쪼록 이 어플을 이용하는 시,군이 많아졌으면 좋겠네요.',\n",
       "  'rating': 5,\n",
       "  'writed_time': '2022-07-13 04:24'},\n",
       " {'review_id': 'fc4c582c-2abf-4339-8fb3-e203185b67c6',\n",
       "  'author': '채영미',\n",
       "  'review_text': \"집에서 시 전체 도서를 검색할 수 있다. 예약, 타관상호대차, 대출도서 연장을 바로바로 할 수있어 정말 편리하다. 얼마 전까지만 해도 타도서관을 직접가야했는데 상호대차서비스가 생겨 나의 시간을 많이 절약해준다. 그리고 대여도서 일괄연장이 앱에서는 불가해서 한권씩 연장하려면 아주 번거러웠는데 '전체선택'버튼이 생겨서 정말 편해졌다.\",\n",
       "  'rating': 5,\n",
       "  'writed_time': '2021-08-12 02:12'},\n",
       " {'review_id': 'd7d127e5-ba7b-4e87-bbe2-924b7f2fa0b3',\n",
       "  'author': 'Narae Min',\n",
       "  'review_text': '개인컨텐츠에 편집방법 개선이 필요한데 아직도 그대로네요 스크롤내려서 삭제 할 때마다 맨위로 다시올라가서 매우 불편함을 느낍니다 검색책 기록도 다시 찾아보려면 숫자로 바뀌어있어서 매번 다시 써서 검색, 대출베스트나 댓글많은도서는 사실상 구색맞추기 위한 것처럼 관리나 반영이 안되는듯 하고 도서검색도 어린이도서관,종합자료실 체크란이 있으면 시간낭비에 어렵게 검색하지 않아도 될텐데요...(이부분은 몇년전부터 지금까지 자주올라오는 불편함 리뷰) 도서 검색중에 관심도서추가는 일일이 들어가서 추가버튼 누르고 찾아보려면 개인컨텐츠를 또찾아들어가서 봐야하는 번거로움도 개선이 되면 좋겠네요..',\n",
       "  'rating': 1,\n",
       "  'writed_time': '2022-08-19 03:47'},\n",
       " {'review_id': '2be14c38-a2cc-46a8-9fee-81eb003dc4c2',\n",
       "  'author': 'oljeto (oljeto)',\n",
       "  'review_text': '잘 사용하고 있습니다. 고맙습니다. 한 가지 부탁드리자면, 도서 검색 할 때 작가이름 + 책제목 검색 시엔 검색이 안되던데 그 기능도 추가해주시면 좋겠습니다. 검색한 단어가 포함된 제목을 가진 책이 모두 검색되니, 어떨 땐 너무나도 많은 책이 검색되니(특히 제목이 한 글자로 된 책인 경우) 불편하네요..',\n",
       "  'rating': 4,\n",
       "  'writed_time': '2020-10-04 07:46'},\n",
       " {'review_id': '13ed1696-b81c-4108-9f3b-451e6f16375e',\n",
       "  'author': 'Google 사용자',\n",
       "  'review_text': '1. 스마트회원증 아래에 바코드를 읽힐 때 화면 밝기를 높여주세요라는 문구를 추가해주셨으면 좋겠습니다. 2. 스마트회원증이 왼쪽으로 밀어야 나오는데 그 점이 불편합니다. 평소와 다른 밀어넘기기 방향이라 처음 이용하는 분들이 회원증 바코드를 찾는데 어려움이 있습니다. 세심한 문구와 콘텐츠 배치가 원활한 앱을 이용하는데 도움이 될 것 같습니다.',\n",
       "  'rating': 4,\n",
       "  'writed_time': '2019-04-19 02:04'},\n",
       " {'review_id': '80aa077f-df7d-4671-a891-932cd5312086',\n",
       "  'author': 'GE J',\n",
       "  'review_text': '대체할만한게 없어서 쓰는데 솔직히 업데이트를 안해줘서 아쉽네요. 일일히 도서관 카드 안가지고 다녀도 되는것은 좋지만 제가 신청한 책이 들어오거나 예약했던 책에 대해서 알림이 온다던가 하는 편의 기능이 부족한 듯. 그리고 도서관 독서실에 자리를 예약해 뒀을 때 순서가 오면 알려주거나 제한된 시간안에서만 사용가능한 경우에 그 시간이 얼마나 남았는지 알려주는 기능 등이 좀 추가됐으면 좋겠습니다.',\n",
       "  'rating': 2,\n",
       "  'writed_time': '2021-10-11 05:02'},\n",
       " {'review_id': 'bd9192ae-13a9-4ef7-a539-6f5558431e37',\n",
       "  'author': 'Google 사용자',\n",
       "  'review_text': '대출현황 화면에서 반납연기를 할때 여러 도서를 선택해서 한번에 반납연기를 할 수 있도록 개선 부탁 드립니다. 현재는 책마다 반납연기 아이콘이 있는데 한권에 대해 반납연기 아이콘을 터치하면 전체 리스트가 리프레쉬되면서 최상단 리스트로 이동됩니다. 대출도서가 많을경우 (가족현황 포함해서) 반납연기를 할때마다 화면을 아래로 스크롤 해야하는 불편함이 있습니다.',\n",
       "  'rating': 3,\n",
       "  'writed_time': '2019-06-02 02:44'},\n",
       " {'review_id': '394bf0b4-8c6d-436a-86e0-16a402acc38b',\n",
       "  'author': '강희정',\n",
       "  'review_text': '리브로 앱을 정말 잘 사용하고 있어요~ 감사합니다~ 건의 드리고 싶은게 있는데요~ 개인컨덴츠 - 기본서재 사용 중에 책을 선택해 삭제하고 나면 제일 앞으로 되돌아가서 불편합니다!! 보고있던 위치를 다시 찾으려면 한참을 걸려 내려보기를 하고, 찾아서 삭제하고 나면 또 다시 맨 위 화면이 되고~ 이것 좀 고쳐 주세요~~~~~^^;;',\n",
       "  'rating': 5,\n",
       "  'writed_time': '2021-05-17 04:05'},\n",
       " {'review_id': 'f0badfee-e187-4a9e-a8f6-69b79b10c06e',\n",
       "  'author': 'Ivy Lee (헤이비)',\n",
       "  'review_text': \"불편한 점이 없지않지만 그래도 필요할때 잘 활용하고 있는데, 최근 핸드폰을 바꾼 이후로 문제가 심각해요. 모바일회원증도 다운이 안되고, 책 대출하려고 하는데 자꾸 '네트워크 장애나 시스템 문제가 발생'했다고 하는데, 수정이 안됩니다. 며칠전에도 이렇게 떠서 이제 괜찮아졌겠지 하고 다시 해봐도 또 문제, 또 문제 ... 책 대출을 아예 하지 말라는건지 ... ㅠㅠㅠㅠ 어떻게 해야하는건지 그 '네트워크 장애' 를 좀 복구를 좀 해주세요.\",\n",
       "  'rating': 3,\n",
       "  'writed_time': '2022-08-20 10:23'},\n",
       " {'review_id': '4b83bd7e-0438-403b-b70a-f88240d2e034',\n",
       "  'author': 'Google 사용자',\n",
       "  'review_text': '원래도 오류가 잦았는데 며칠 전부터는 상호 대차가 아예 안 떠요. 메인에서 상호 대차 누르면 아무것도 없는 빈 화면만 나옵니다. 그리고 앱 실행시 뜨는 공지사항 알림(내년까지 공사중인 관내 타 도서관 대출불가 알림)도 다시 보지 않음 기능이 없고 오늘 하루 동안 보지 않음만 있어서 몇 달째 어플 들어갈 때마다 매번 알림이 뜹니다. 너무 불편한데 왜 개선을 안 하는지 모르겠어요.',\n",
       "  'rating': 1,\n",
       "  'writed_time': '2019-12-01 05:23'},\n",
       " {'review_id': 'e2b1863f-119b-44f0-bb35-11824876249a',\n",
       "  'author': 'Freddie James',\n",
       "  'review_text': '5년이상 쓰고 있는 어플.업데이트도 없음. 굉장히 불편함. 차라리내가 만들고 싶을정도 1.디자인은 구려도 검색창은 실용적이어야되는데 검색하면 수백개 뜨는 책들은 하염없이 내려서 찾아야함. 잘못 뒤로 누르거나하면? 얄짤없음 처음부터 내려야됨. 2.즐겨찾기 책 찾다가 도중에 흥미로운 책이 있으면 리스트 만들고 추가시키는편인데 아예 다른 메뉴로 들어가야하니 굉장히 불편. 3.디자인 최적화 없음 디자인 개구림. 메뉴 쓸때없이 산만함. e북으로 보려면 인터페이스 개구려서 보기도 싫어짐. 4. 홈 메뉴 두서없이 뒤죽박죽 정리좀. 5.검색창 세부설정좀 아동용은 왜 나오는데? 아동용 일반용으로 구분필요. 대략적으로 5년동안 사용하면서 불편한거 써놓음. 몇가지 더있는데 크게 디자인최적화없음,검색창 불편,관심도서리스트 쉽게쉽게좀. 홈 화면 정리. 어플 최적화 좀 해주길',\n",
       "  'rating': 2,\n",
       "  'writed_time': '2021-09-02 06:21'},\n",
       " {'review_id': '655deef8-7580-4d54-9d47-fce0a1057d09',\n",
       "  'author': 'Eunji Oh',\n",
       "  'review_text': '왜 이렇게 업데이트 자주 하세요? 어플 리뷰 한번도 안써봤는데 너무 화가나서 써요. 어플 열 때마다 업데이트 해야되서 너무 짜증나요. 사용자가 느끼기에 큰 차이도 모르겠고요, 자잘한 버그 수정이라면 한번에 모아서 업데이트 진행했으면 좋겠습니다. 이번 업데이트는 문구수정, 오류 수정이라는데 도대체 뭐가 바뀐겁니까ㅠ 피드백 반영 부탁드려요. 제발~~~~~!!!!!!!!!!!!! 도서관 전자회원증 대체할 수 있는 어플도 없잖아요. 그니깐 제발~~~~~~',\n",
       "  'rating': 3,\n",
       "  'writed_time': '2021-04-16 00:27'},\n",
       " {'review_id': '689d6960-fdc1-429d-a74b-ffb4872c6fda',\n",
       "  'author': 'muhu YUN',\n",
       "  'review_text': '좋은앱 잘쓰고 있습니다. 근데 건의사항이 있는데요. [신착도서안내] 볼때 종이책만 보고 싶을때 큰글씨책, 전자책, dvd까지 전체가 다 나열되서 보기가 불편합니다. 종이책이 아래쪽에 있으면 한참 스크롤을 내려야 되서요. 종류별로 구분해서 볼 수 있으면 좋겠습니다.',\n",
       "  'rating': 4,\n",
       "  'writed_time': '2020-08-15 01:56'},\n",
       " {'review_id': '5dbd78dd-c3fa-4d16-8ad7-452d8b1e7524',\n",
       "  'author': '김진옥',\n",
       "  'review_text': '대출현황에서 대출기간 연기 할때 하나하나 연기해야만 해서 굉장히 불편합니다. 대출 권수가 20권이상 일때가 많은데 한개 연기 버튼 누르고 다시 첫화면으로 돌아오고 이걸 20번이상 반복해야해요. 대출된 책 앞에 체크 표시 할수있게 해서 연기하고 싶은 책 체크하고 마지막에 연기 버튼 한번만 누를 수 있도록해주세요. 옆에 일괄 연기버튼도 같이 있음 좋구요~~꼭 부탁드립니다',\n",
       "  'rating': 4,\n",
       "  'writed_time': '2020-07-07 13:24'},\n",
       " {'review_id': '8385f32a-f614-4dac-a1b7-7a2e86eb6976',\n",
       "  'author': 'Google 사용자',\n",
       "  'review_text': '컴퓨터를 키지않고 열람실 좌석, 예약하기 등의 기능을 쓸 수있어서 정말 좋아요. 개선할 점은 좀 더 다양한 도서관에서 쓸수있으면 좋겠어요. 대학교 도서관이라든지, 새마을 도서관이라든지 말이예요. 누가 만든건지 모르겠지만 정말 좋아요. 그리고 마지막으로 책을 검색할 때 자료실별로 검색할수있으면 좋겠어요. 저는 성인인데 유아용도서까지 검색되니까 검색하는데 귀찮더라고요.',\n",
       "  'rating': 5,\n",
       "  'writed_time': '2018-10-19 08:43'},\n",
       " {'review_id': '4bd198f7-422a-4534-aa02-e7ef64964670',\n",
       "  'author': 'kmjmiso64미진',\n",
       "  'review_text': '저에겐정말 유용한어플입니다. 개인컨텐츠부분에서 내서재의 순서를 핸드폰 갤러리의 폴더 순서를 바꿀수 있는 것처럼 서재순서를 바꿀수있는 기능이 있다면 더 편리하게 쓰겠어요. 이 어플덕분에 책목록노트를 없앨수 있었습니다 .',\n",
       "  'rating': 5,\n",
       "  'writed_time': '2021-05-15 08:33'},\n",
       " {'review_id': 'b2131e0e-9a7c-445b-ae00-c507ad58c32a',\n",
       "  'author': 'mira Shin',\n",
       "  'review_text': '앱 정말 잘 이용하고 있어요. 도서 예약, 상호대차 신청도 편하게 하구요. 예정에 없이 도서관 방문하게 되는 경우나 카드 깜빡했을땐 앱에서 모바일 회원증으로 대여 가능하니 편리하구요. 그런데 한가지 제안드리고 싶은게, 검색할때 도서명과 작가명 동시 검색이 되면 좋겠어요. 그럼 검색 기능이 훨씬 좋아질것 같아요. 개발자님께 부탁 드려봅니다.',\n",
       "  'rating': 4,\n",
       "  'writed_time': '2021-10-28 04:31'},\n",
       " {'review_id': '13c5195f-26ae-405b-907b-a816d3497105',\n",
       "  'author': '봄BOM',\n",
       "  'review_text': '★예약도서신청을 더 편하게 할 수 있게 개선해 주세요. ★예약도서신청시, 이미 다른 사람이 예약한 경우, 대상도서관 선택과 동시에 \"이미 예약됐다\"는 메시지가 먼저 떴으면 좋겠습니다. -지금은 예약 도서 검색후, 대상도서관 지정, 신청의견까지 고민해서 쓰고 우선대출예약에 sms수신여부까지 다 표시하고 \"신청\"을 눌러야 누가 이미 예약했는지 알려줍니다. 오늘도 기껏 이것저것 작성해서 신청 눌렀더니 이미 예약신청 돼 있다고 뜨니 황당하고 쓸데없이 시간 낭비한 느낌입니다. 헛수고를 하지 않게 순서를 좀 바꿔주시기 부탁드립니니다.',\n",
       "  'rating': 3,\n",
       "  'writed_time': '2022-02-14 08:48'},\n",
       " {'review_id': '99c2d7e1-c509-4b29-9785-d311a809614d',\n",
       "  'author': '박혁거세',\n",
       "  'review_text': '업데이트 후 앱이 계속 중단되어, 몇번을 지우고 다시 깔아도 같은 현상 반복되고, 폰을 몇번을 재시작해서 다시 깔아도 똑같고.. 복장 터지네요. 폰 문제는 아닌 것 같고 업뎃 직후 먹통 상황이니 신속한 조치 바랍니다!',\n",
       "  'rating': 3,\n",
       "  'writed_time': '2020-10-10 01:48'},\n",
       " {'review_id': '4226ae9e-dec0-4346-b5fa-dfe367f7e22a',\n",
       "  'author': 'EY B',\n",
       "  'review_text': '그리 편하고 좋지만은 않아요. 다른 분들 평점 보니까 호불호가 많이 갈리는데 저는 불호 쪽이요. 근데 그렇게 못 쓰지는 않아요. 결론! 도서관이 좀 멀리 있으신 분들은 사용하시는 것도 나쁘지는 않은데 가까이 있고, 문자나 카톡을 통해 도서관 관련 알림을 받으실 수 있는 분들은 구지 사용하실 필요는 없으실 것 같아요^^',\n",
       "  'rating': 2,\n",
       "  'writed_time': '2021-02-17 10:45'},\n",
       " {'review_id': 'fdb17bd2-76dc-4b22-bd5a-465d7e74ade4',\n",
       "  'author': 'Shin hye Lee',\n",
       "  'review_text': '너무 잘 쓰고 있는데 개선점 하나 말씀 드려요 청구기호 전송내역에 들어가서 똑같은 책이 두번 중복으로 되어있을때 그 중 하나를 삭제하면 나머지도 같이 사라져버립니다 도서관 가서 효율적으로 책 찾기 위해 청구기호 리스트 정리하고 싶은데 일을 또 하게 되어요 꼭 좀 개선 바랍니다 수고하세요',\n",
       "  'rating': 4,\n",
       "  'writed_time': '2022-02-26 13:52'},\n",
       " {'review_id': '0eac8b87-ee29-4d51-bc68-0a4ab0640da2',\n",
       "  'author': 'DAAE KIM',\n",
       "  'review_text': '잘 쓰고 있어요. 코로나 때문에 도서관에서 직접 대출을 못해서 책마중 서비스로 대출하는 데, 홈페이지보다 편하네요. 검색만 조금 더 개선해주세요. 전자책으로 있다하여 대출할려 했더니 전자책 카테고리로 가서 검색해야 된다 해서 다시 검색했더니 책이 없다고 나오는 경우도 있습니다.',\n",
       "  'rating': 4,\n",
       "  'writed_time': '2020-09-07 11:20'},\n",
       " {'review_id': '12b5ca62-66fa-4a20-ac4b-6b59e62ead85',\n",
       "  'author': 'Google 사용자',\n",
       "  'review_text': '도서관카드를 맨날 깜빡하고 안들고 가는데 이 어플만 있으면 도서관카드를 들고 다닐 필요가 없어서 그것 만으로도 너무 좋은 어플!! 도서관에 가지 않고도 도서관에 책 대출가능 여부와 소장여부도 알 수 있어서 너무 편리해욤!! 전자책도 있던데 종류가 많지는 않지만 다음에 시간날때 읽어볼게요! 더 업데이트를 하면 완전 편리허게 도서관 이용할 수 있을 것 같아서 기대 되네요!!',\n",
       "  'rating': 4,\n",
       "  'writed_time': '2020-04-24 05:26'},\n",
       " {'review_id': '3156f96b-74a9-4bd9-a90c-d385129768d6',\n",
       "  'author': '이한결',\n",
       "  'review_text': '너무 감사한 앱이예요 한가지 의견을 제안드리고자 합니다 책을 보면서 독서노트를 하면 더 기억에남고 좋다고 합니다 책을 열심히 읽었는데 나중에 기억나지 않는것은 버리는 책읽기라고 합니다 독서노트를 쓸수 있는 곳이 있으면 좋겠어요 예를 들어 대출이력에 책을 클릭하면 남길 수 있도록 하면 좋을것 같아요 네이버나 카톡등 공유버튼도 있으면 좋겠어요 독서노트 앱을 다운받으려다 내가 자주사용하는 리브로피아에 이런게 있으면 좋겠다는 바램이 들어 의견 올려봅니다',\n",
       "  'rating': 5,\n",
       "  'writed_time': '2021-07-27 15:14'},\n",
       " {'review_id': 'df3dc3cd-5a18-4c02-b5ae-6adae149f25b',\n",
       "  'author': 'Chaegyu Park',\n",
       "  'review_text': '이 정도면 사용하는데 전혀 문제 없는 것 같습니다. 도서관 방문없이 전자 도서를 무료로 대출할 수 있다는게 참 좋습니다. 많은 도움이 됩니다. 관계자분들 감사합니다. ^^',\n",
       "  'rating': 5,\n",
       "  'writed_time': '2022-11-28 07:02'},\n",
       " {'review_id': '629bf41c-5242-4781-9dee-9e3ae5ca8c5d',\n",
       "  'author': '살빼장',\n",
       "  'review_text': '유용하게 잘 쓰고 있어요. 다만 전자책과 종이책을 구분해서 검색할 수 있으면 좋겠어요',\n",
       "  'rating': 4,\n",
       "  'writed_time': '2023-01-04 23:54'},\n",
       " {'review_id': '531b0fda-8160-4154-a6cc-d678ede15097',\n",
       "  'author': '요거트마카롱',\n",
       "  'review_text': '자료검색이나 회원증 인증하는데 로딩속도가 굉장히 느리고 서버오류 창이 잘 뜹니다ㅠ 와이파이 끄고 데이터 켜고 해도 그렇네요. 굉장히 유용하게 잘 쓸 것 같은 앱인데 이부분 개선해주시면 좋을 것 같습니당!',\n",
       "  'rating': 3,\n",
       "  'writed_time': '2022-03-14 16:21'},\n",
       " {'review_id': 'd3b05871-1d61-4134-9e0c-282ae86f5db1',\n",
       "  'author': '박양',\n",
       "  'review_text': '일반적인 예약,현황,카드없이대출과 희망도서신청까지 가능한데 모바일전자책이 가능한건 오늘에야 알았네요 진작이용할껄 싶었는데 긴 로딩에 검색에러까지 자주이용하긴 불편한고 개선해야할 사항이 많이보입니다 좀더 원할하게 이용가능하게 개선 부탁드립니다',\n",
       "  'rating': 3,\n",
       "  'writed_time': '2021-07-09 12:21'},\n",
       " {'review_id': 'aed6be15-207e-4b17-ba96-d144eb760cd1',\n",
       "  'author': '정원',\n",
       "  'review_text': '일단 개인적으로는 프로필 사진 변경을 했는데, 책 검색을 하고 다시 들어가보니 프로필 사진이 초기화가 되어있었습니다. 이 점만 뺀다면 정말 완벽 할 것 같습니다.그럼 안녕히 계십시오.',\n",
       "  'rating': 4,\n",
       "  'writed_time': '2021-07-18 04:36'},\n",
       " {'review_id': 'b1b39615-5131-4b54-854a-57b233e7e6a6',\n",
       "  'author': '유효진',\n",
       "  'review_text': '책 대출이나 예약시 편리하지만, 도서관 출입명부작성할때 회원바코드로 찍는데 켤때마다 업데이트가 너무 잦습니다. 거의 일주일에 한번꼴인데, 업데이트속도가 빠른것도 아니고..개선요청합니다.',\n",
       "  'rating': 3,\n",
       "  'writed_time': '2021-03-25 05:52'},\n",
       " {'review_id': 'a0c2fa2e-4c86-47a9-80b6-3126c89c05f5',\n",
       "  'author': 'Google 사용자',\n",
       "  'review_text': '매우 좋은 어플입니다. 집에서도 전자책으로 원하는 책을 무료로 빌려볼 수 있습니다. 그리고 어플이 전국의 많은 도서관을 밀집시켜 도서자료를 관리하니 오류가 발생하는 것은 당연합니다. 시간이 지나면 어느 정도 어플이 안정화 될 것이니, 과한 불만을 이야기 하지 않았으면 합니다.',\n",
       "  'rating': 5,\n",
       "  'writed_time': '2020-04-07 04:59'},\n",
       " {'review_id': '7f859328-5679-452e-9a18-a98b4cd10d37',\n",
       "  'author': '난잠자는콧털',\n",
       "  'review_text': '관심 책을 쉽게 지정하고 목록을 쉽게 볼 수 있게 좀 만들어주세요. 서재에 넣는게 불편하고 보기도 힘들어요. 당근마켓 관심 목록 처럼 좀 쉬웠으면., 그리고 책 구매 신청할때 왤케 검색도 안되고 구린지... 어휴',\n",
       "  'rating': 2,\n",
       "  'writed_time': '2022-07-13 16:19'},\n",
       " {'review_id': '596d887d-c759-482b-8629-89757737af27',\n",
       "  'author': '방채현',\n",
       "  'review_text': '어느 순간부터 대출이력검색이 오류가 나네요~ 가족회원들의 대출이력검색도 함께 가능하면 좋겠습니다~ 상호대차신청도 안 될때가 많아 구립도서관홈페이지도 같이 이용해야되서 불편한 점이 있어요~',\n",
       "  'rating': 4,\n",
       "  'writed_time': '2022-10-16 09:47'},\n",
       " {'review_id': '9e670708-6452-474d-aae4-f667d32b8ad3',\n",
       "  'author': '한준우',\n",
       "  'review_text': '책을 개인 컨텐츠에 넣는것 까지는 되는데 넣고 보기전에 다운로드를하는데 계속 에러로 다운로드 되지 않는다고 나오고, 다운로드는 되도 책을 보러 클릭해도 페이지가 안나오고 로딩만 뜨거나 에러가생겨서 이건 도대체 책을 보라는건지 모르겠습니다.',\n",
       "  'rating': 1,\n",
       "  'writed_time': '2022-10-16 10:26'},\n",
       " {'review_id': '0394e060-2246-41f6-a3af-58ef54886eae',\n",
       "  'author': '개낙타',\n",
       "  'review_text': '유용하게 잘 사용하고 있습니다. 하나 요청하고 싶은 부분은 신규도서를 볼 때 너무 유아도서막 쭈르르르륵 뜨니 보기가 힘들 때가 많아요. 최소한 어린이책은 제외하고 볼 수 있도록 옵션이 있으면 좋겠습니나.',\n",
       "  'rating': 5,\n",
       "  'writed_time': '2021-05-19 08:07'},\n",
       " {'review_id': 'bbb6d89e-8ebb-4ecb-a525-8c1f52c4f0c7',\n",
       "  'author': '워너Be',\n",
       "  'review_text': '계정생성하려고 하면 서버와 연결에 문제있다고 하면서 계속 오류나네요ㅜㅜ 다른건 다 잘 되는데 왜 회원가입이 안되나요?? 가입이 되야 쓰던말던 할텐데요ㅜ그리고 매번들어갈때마다 업데이트 확인하는데 확인에도 넘 오래걸립니다. 매우 불편합니다.',\n",
       "  'rating': 1,\n",
       "  'writed_time': '2020-07-03 01:05'}]"
      ]
     },
     "execution_count": 68,
     "metadata": {},
     "output_type": "execute_result"
    }
   ],
   "source": [
    "list(map(parse_review, review_data[0]))"
   ]
  },
  {
   "cell_type": "code",
   "execution_count": 69,
   "metadata": {},
   "outputs": [
    {
     "data": {
      "text/plain": [
       "True"
      ]
     },
     "execution_count": 69,
     "metadata": {},
     "output_type": "execute_result"
    }
   ],
   "source": [
    "next_page = review_data[1][1]\n",
    "next_page == \"Cm0KawppMCwxMDAwMDAwLjM1NzU2ODQ0MjgsMTMwNDc4OTMxOTI3LCJodHRwOi8vbWFya2V0LmFuZHJvaWQuY29tL2RldGFpbHM_aWQ9djI6ZWNvLmFwcC5saWJyb3BpYS52MjoxIiwxLGZhbHNl\""
   ]
  },
  {
   "attachments": {},
   "cell_type": "markdown",
   "metadata": {},
   "source": [
    "# Scrap review in other pages"
   ]
  },
  {
   "cell_type": "code",
   "execution_count": 70,
   "metadata": {},
   "outputs": [],
   "source": [
    "f_req_format = '[[[\"oCPfdb\",\"[null,[2,1,[100,null,\\\\\"%s\\\\\"]],[\\\\\"%s\\\\\",7]]\",null,\"generic\"]]]'"
   ]
  },
  {
   "cell_type": "code",
   "execution_count": 71,
   "metadata": {},
   "outputs": [
    {
     "name": "stdout",
     "output_type": "stream",
     "text": [
      "[[[\"oCPfdb\",\"[null,[2,1,[100,null,\\\"Cm0KawppMCwxMDAwMDAwLjM1NzU2ODQ0MjgsMTMwNDc4OTMxOTI3LCJodHRwOi8vbWFya2V0LmFuZHJvaWQuY29tL2RldGFpbHM_aWQ9djI6ZWNvLmFwcC5saWJyb3BpYS52MjoxIiwxLGZhbHNl\\\"]],[\\\"eco.app.libropia.v2\\\",7]]\",null,\"generic\"]]]\n"
     ]
    }
   ],
   "source": [
    "print(f_req_format % (next_page, \"eco.app.libropia.v2\"))"
   ]
  },
  {
   "cell_type": "code",
   "execution_count": 72,
   "metadata": {},
   "outputs": [],
   "source": [
    "response = requests.post(\n",
    "    url=\"https://play.google.com/_/PlayStoreUi/data/batchexecute\",\n",
    "    params={\n",
    "        \"rpcids\": \"oCPfdb\",\n",
    "        \"hl\": \"ko\",\n",
    "    },\n",
    "    data={\n",
    "        \"f.req\": f_req_format % (next_page, \"eco.app.libropia.v2\")\n",
    "    },\n",
    "    headers={ \"accept-encoding\": \"gzip, deflate, br\" },\n",
    "    cookies=None,\n",
    ")"
   ]
  },
  {
   "cell_type": "code",
   "execution_count": 73,
   "metadata": {},
   "outputs": [],
   "source": [
    "review_data = json.loads(json.loads(response.text[6:])[0][2])"
   ]
  },
  {
   "cell_type": "code",
   "execution_count": 77,
   "metadata": {},
   "outputs": [
    {
     "data": {
      "text/plain": [
       "['35f3c25d-c8ed-4fb9-b02e-038dab51d8bb',\n",
       " ['aprilaroma yi',\n",
       "  [None,\n",
       "   2,\n",
       "   None,\n",
       "   [None,\n",
       "    None,\n",
       "    'https://play-lh.googleusercontent.com/a/AEdFTp4lOmfSYz8i_6hjQidxvck79jROqYzot5gl9lBg=mo']]],\n",
       " 1,\n",
       " None,\n",
       " '업데이트 후, 계속 정상적인 구동이 되지 않네요~ 수정해주세요. 앱삭제, 다운 거듭해도 잠시 구동되고는 다음 사용 때엔 어김없이 삐그덕거리는지 벌써 일주일이 되어갑니다.',\n",
       " [1594020984, 697000000],\n",
       " 5,\n",
       " None,\n",
       " None,\n",
       " ['116764572684505491886',\n",
       "  'aprilaroma yi',\n",
       "  None,\n",
       "  [[None,\n",
       "    2,\n",
       "    None,\n",
       "    [None,\n",
       "     None,\n",
       "     'https://play-lh.googleusercontent.com/a/AEdFTp4lOmfSYz8i_6hjQidxvck79jROqYzot5gl9lBg=mo']],\n",
       "   True],\n",
       "  [None,\n",
       "   2,\n",
       "   None,\n",
       "   [None,\n",
       "    None,\n",
       "    'https://play-lh.googleusercontent.com/Yq7oyNIvAAkuc69fG51sbAQS4otJxbObbt3xdr8tXxXyUdq4tVGtfgeKuptveGdP1srxaHVrNPzOYcfaEQ']]],\n",
       " '3.2.44']"
      ]
     },
     "execution_count": 77,
     "metadata": {},
     "output_type": "execute_result"
    }
   ],
   "source": [
    "review_data[0][0]"
   ]
  },
  {
   "cell_type": "code",
   "execution_count": 74,
   "metadata": {},
   "outputs": [
    {
     "data": {
      "text/plain": [
       "[None,\n",
       " 'CmwKagpoMCwxMDAwMDAwLjIyNzc1NjM5NTksODg1ODk4NDI0MTIsImh0dHA6Ly9tYXJrZXQuYW5kcm9pZC5jb20vZGV0YWlscz9pZD12MjplY28uYXBwLmxpYnJvcGlhLnYyOjEiLDEsZmFsc2U']"
      ]
     },
     "execution_count": 74,
     "metadata": {},
     "output_type": "execute_result"
    }
   ],
   "source": [
    "review_data[1]"
   ]
  },
  {
   "attachments": {},
   "cell_type": "markdown",
   "metadata": {},
   "source": [
    "# Use default-scraper"
   ]
  },
  {
   "cell_type": "code",
   "execution_count": 85,
   "metadata": {},
   "outputs": [
    {
     "ename": "TypeError",
     "evalue": "'NoneType' object is not subscriptable",
     "output_type": "error",
     "traceback": [
      "\u001b[0;31m---------------------------------------------------------------------------\u001b[0m",
      "\u001b[0;31mTypeError\u001b[0m                                 Traceback (most recent call last)",
      "\u001b[0;32m/var/folders/zl/_h6_qxf5573ftcg7h__1jt580000gn/T/ipykernel_3226/3180136857.py\u001b[0m in \u001b[0;36m<module>\u001b[0;34m\u001b[0m\n\u001b[1;32m      2\u001b[0m \u001b[0;34m\u001b[0m\u001b[0m\n\u001b[1;32m      3\u001b[0m \u001b[0mparser\u001b[0m \u001b[0;34m=\u001b[0m \u001b[0mGooglePlayReviewParser\u001b[0m\u001b[0;34m(\u001b[0m\u001b[0;34m\"eco.app.libropia.v2\"\u001b[0m\u001b[0;34m)\u001b[0m\u001b[0;34m\u001b[0m\u001b[0;34m\u001b[0m\u001b[0m\n\u001b[0;32m----> 4\u001b[0;31m \u001b[0mparser\u001b[0m\u001b[0;34m.\u001b[0m\u001b[0mrun\u001b[0m\u001b[0;34m(\u001b[0m\u001b[0;34m)\u001b[0m\u001b[0;34m\u001b[0m\u001b[0;34m\u001b[0m\u001b[0m\n\u001b[0m",
      "\u001b[0;32m~/Git/default-scraper/default_scraper/googleplay/review/parser.py\u001b[0m in \u001b[0;36mrun\u001b[0;34m(self, output_file)\u001b[0m\n\u001b[1;32m     20\u001b[0m         \u001b[0mcontents\u001b[0m\u001b[0;34m,\u001b[0m \u001b[0mscripts\u001b[0m \u001b[0;34m=\u001b[0m \u001b[0mself\u001b[0m\u001b[0;34m.\u001b[0m\u001b[0mrequest_app_details\u001b[0m\u001b[0;34m(\u001b[0m\u001b[0;34m)\u001b[0m\u001b[0;34m\u001b[0m\u001b[0;34m\u001b[0m\u001b[0m\n\u001b[1;32m     21\u001b[0m         \u001b[0mreview_ds_keys\u001b[0m \u001b[0;34m=\u001b[0m \u001b[0mself\u001b[0m\u001b[0;34m.\u001b[0m\u001b[0mfind_review_ds_keys\u001b[0m\u001b[0;34m(\u001b[0m\u001b[0mcontents\u001b[0m\u001b[0;34m)\u001b[0m\u001b[0;34m\u001b[0m\u001b[0;34m\u001b[0m\u001b[0m\n\u001b[0;32m---> 22\u001b[0;31m         \u001b[0mreview_data\u001b[0m \u001b[0;34m=\u001b[0m \u001b[0mself\u001b[0m\u001b[0;34m.\u001b[0m\u001b[0mcrawl_review_data\u001b[0m\u001b[0;34m(\u001b[0m\u001b[0mscripts\u001b[0m\u001b[0;34m,\u001b[0m \u001b[0mreview_ds_keys\u001b[0m\u001b[0;34m)\u001b[0m\u001b[0;34m\u001b[0m\u001b[0;34m\u001b[0m\u001b[0m\n\u001b[0m\u001b[1;32m     23\u001b[0m \u001b[0;34m\u001b[0m\u001b[0m\n\u001b[1;32m     24\u001b[0m         \u001b[0;32mif\u001b[0m \u001b[0moutput_file\u001b[0m \u001b[0;32mis\u001b[0m \u001b[0;32mnot\u001b[0m \u001b[0;32mNone\u001b[0m\u001b[0;34m:\u001b[0m\u001b[0;34m\u001b[0m\u001b[0;34m\u001b[0m\u001b[0m\n",
      "\u001b[0;32m~/Git/default-scraper/default_scraper/googleplay/review/parser.py\u001b[0m in \u001b[0;36mcrawl_review_data\u001b[0;34m(self, scripts, review_ds_keys)\u001b[0m\n\u001b[1;32m     87\u001b[0m \u001b[0;34m\u001b[0m\u001b[0m\n\u001b[1;32m     88\u001b[0m         \u001b[0;32mwhile\u001b[0m \u001b[0mlen\u001b[0m\u001b[0;34m(\u001b[0m\u001b[0mnext_page\u001b[0m\u001b[0;34m)\u001b[0m \u001b[0;34m>\u001b[0m \u001b[0;36m0\u001b[0m\u001b[0;34m:\u001b[0m\u001b[0;34m\u001b[0m\u001b[0;34m\u001b[0m\u001b[0m\n\u001b[0;32m---> 89\u001b[0;31m             \u001b[0mreview_data_partial\u001b[0m\u001b[0;34m,\u001b[0m \u001b[0mnext_page\u001b[0m \u001b[0;34m=\u001b[0m \u001b[0mself\u001b[0m\u001b[0;34m.\u001b[0m\u001b[0mreview_other_page\u001b[0m\u001b[0;34m(\u001b[0m\u001b[0mnext_page\u001b[0m\u001b[0;34m)\u001b[0m\u001b[0;34m\u001b[0m\u001b[0;34m\u001b[0m\u001b[0m\n\u001b[0m\u001b[1;32m     90\u001b[0m             \u001b[0mreview_data\u001b[0m \u001b[0;34m+=\u001b[0m \u001b[0mreview_data_partial\u001b[0m\u001b[0;34m\u001b[0m\u001b[0;34m\u001b[0m\u001b[0m\n\u001b[1;32m     91\u001b[0m \u001b[0;34m\u001b[0m\u001b[0m\n",
      "\u001b[0;32m~/Git/default-scraper/default_scraper/googleplay/review/parser.py\u001b[0m in \u001b[0;36mreview_other_page\u001b[0;34m(self, page_hash)\u001b[0m\n\u001b[1;32m    130\u001b[0m             \u001b[0mprint\u001b[0m\u001b[0;34m(\u001b[0m\u001b[0;34m\"\\n\\n-------\"\u001b[0m\u001b[0;34m)\u001b[0m\u001b[0;34m\u001b[0m\u001b[0;34m\u001b[0m\u001b[0m\n\u001b[1;32m    131\u001b[0m             \u001b[0mprint\u001b[0m\u001b[0;34m(\u001b[0m\u001b[0mresponse\u001b[0m\u001b[0;34m.\u001b[0m\u001b[0mtext\u001b[0m\u001b[0;34m)\u001b[0m\u001b[0;34m\u001b[0m\u001b[0;34m\u001b[0m\u001b[0m\n\u001b[0;32m--> 132\u001b[0;31m             \u001b[0;32mreturn\u001b[0m \u001b[0;34m[\u001b[0m\u001b[0;34m]\u001b[0m\u001b[0;34m,\u001b[0m \u001b[0;34m\"\"\u001b[0m\u001b[0;34m\u001b[0m\u001b[0;34m\u001b[0m\u001b[0m\n\u001b[0m\u001b[1;32m    133\u001b[0m             \u001b[0;31m#review_data_raw = json.loads(json.loads(response.text[6:])[0][2])\u001b[0m\u001b[0;34m\u001b[0m\u001b[0;34m\u001b[0m\u001b[0;34m\u001b[0m\u001b[0m\n\u001b[1;32m    134\u001b[0m \u001b[0;34m\u001b[0m\u001b[0m\n",
      "\u001b[0;31mTypeError\u001b[0m: 'NoneType' object is not subscriptable"
     ]
    }
   ],
   "source": [
    "from default_scraper.googleplay.review.parser import GooglePlayReviewParser\n",
    "\n",
    "parser = GooglePlayReviewParser(\"eco.app.libropia.v2\")\n",
    "parser.run()"
   ]
  }
 ],
 "metadata": {
  "kernelspec": {
   "display_name": "Python 3",
   "language": "python",
   "name": "python3"
  },
  "language_info": {
   "codemirror_mode": {
    "name": "ipython",
    "version": 3
   },
   "file_extension": ".py",
   "mimetype": "text/x-python",
   "name": "python",
   "nbconvert_exporter": "python",
   "pygments_lexer": "ipython3",
   "version": "3.7.9"
  },
  "orig_nbformat": 4,
  "vscode": {
   "interpreter": {
    "hash": "2438bda6d54644286284cae843622a7d91de727470e915892eb8bde095651119"
   }
  }
 },
 "nbformat": 4,
 "nbformat_minor": 2
}
